{
 "cells": [
  {
   "cell_type": "code",
   "execution_count": 15,
   "metadata": {
    "collapsed": true
   },
   "outputs": [],
   "source": [
    "from unity_dataset import UnityDataset\n",
    "\n",
    "import os\n",
    "\n",
    "import torch\n",
    "import torch.nn as nn\n",
    "import torch.nn.functional as F\n",
    "\n",
    "import torch.optim as optim\n",
    "\n",
    "from torch.utils.data.sampler import SubsetRandomSampler\n",
    "from torch.utils.data import DataLoader\n",
    "\n",
    "from torchvision import transforms\n",
    "\n",
    "import numpy as np\n",
    "\n",
    "import matplotlib.pyplot as plt\n",
    "%matplotlib inline\n",
    "\n",
    "import time"
   ]
  },
  {
   "cell_type": "code",
   "execution_count": 2,
   "outputs": [],
   "source": [
    "def get_device():\n",
    "    return torch.device(\"cuda\" if torch.cuda.is_available() else \"cpu\")"
   ],
   "metadata": {
    "collapsed": false,
    "pycharm": {
     "name": "#%%\n"
    }
   }
  },
  {
   "cell_type": "code",
   "execution_count": 3,
   "outputs": [],
   "source": [
    "torch.manual_seed(0)\n",
    "\n",
    "NUM_EPOCHS = 5\n",
    "\n",
    "LEARNING_RATE = 1e-3\n",
    "BATCH_SIZE = 2\n",
    "\n",
    "IMG_SIZE = (480, 360)\n",
    "PATCH_SIZE = (24, 40)\n",
    "\n",
    "TRAIN_SET_PERCENT = 0.8\n",
    "TEST_SET_LENGTH = 1\n",
    "\n",
    "INPUT_IMAGE_DIR = \"/media/blooker/Storage/gold-project-2021-images/480p-refactor-office-x4\"\n",
    "\n",
    "OUTPUT_IMAGE_DIR = \"data/Data/Img\"\n",
    "\n",
    "transform = transforms.Compose([\n",
    "    transforms.ToTensor()\n",
    "])"
   ],
   "metadata": {
    "collapsed": false,
    "pycharm": {
     "name": "#%%\n"
    }
   }
  },
  {
   "cell_type": "code",
   "execution_count": 4,
   "outputs": [],
   "source": [
    "dataset = UnityDataset(root_dir=INPUT_IMAGE_DIR,\n",
    "                       lit_folder='2',\n",
    "                       unlit_folder='1',\n",
    "                       depth_folder='0',\n",
    "                       csv_file='0.csv',\n",
    "                       img_size=IMG_SIZE,\n",
    "                       patch_size=PATCH_SIZE,\n",
    "                       transform=transform)"
   ],
   "metadata": {
    "collapsed": false,
    "pycharm": {
     "name": "#%%\n"
    }
   }
  },
  {
   "cell_type": "code",
   "execution_count": 5,
   "outputs": [],
   "source": [
    "dataset_len = len(dataset)\n",
    "\n",
    "train_set_length = int((dataset_len - TEST_SET_LENGTH) * TRAIN_SET_PERCENT)\n",
    "val_set_length = (dataset_len - TEST_SET_LENGTH) - train_set_length\n",
    "\n",
    "lengths = [train_set_length, val_set_length, TEST_SET_LENGTH]"
   ],
   "metadata": {
    "collapsed": false,
    "pycharm": {
     "name": "#%%\n"
    }
   }
  },
  {
   "cell_type": "code",
   "execution_count": 6,
   "outputs": [],
   "source": [
    "train_set, valid_set, test_set = torch.utils.data.random_split(dataset, lengths)\n",
    "\n",
    "train_loader = DataLoader(dataset=train_set, batch_size=BATCH_SIZE, shuffle=True)\n",
    "valid_loader = DataLoader(dataset=valid_set, batch_size=BATCH_SIZE, shuffle=True)\n",
    "test_loader = DataLoader(dataset=test_set, batch_size=BATCH_SIZE, shuffle=False)"
   ],
   "metadata": {
    "collapsed": false,
    "pycharm": {
     "name": "#%%\n"
    }
   }
  },
  {
   "cell_type": "code",
   "execution_count": 7,
   "outputs": [],
   "source": [
    "def make_dir():\n",
    "    if not os.path.exists(OUTPUT_IMAGE_DIR):\n",
    "        os.makedirs(OUTPUT_IMAGE_DIR)"
   ],
   "metadata": {
    "collapsed": false,
    "pycharm": {
     "name": "#%%\n"
    }
   }
  },
  {
   "cell_type": "code",
   "execution_count": 8,
   "outputs": [],
   "source": [
    "class Autoencoder(nn.Module):\n",
    "    def __init__(self):\n",
    "        super(Autoencoder, self).__init__()\n",
    "\n",
    "        # params encoder\n",
    "        self.enc_params1 = nn.Linear(3, 160)\n",
    "        self.enc_params2 = nn.Linear(160, 420)\n",
    "        self.enc_params3 = nn.Linear(420, 1350)\n",
    "\n",
    "        # patch encoder\n",
    "        self.enc_patch1 = nn.Linear(1, 25)\n",
    "        self.enc_patch2 = nn.Linear(25, 60)\n",
    "        self.enc_patch3 = nn.Linear(60, 90)\n",
    "\n",
    "        # params_patch encoder\n",
    "        self.enc_params_patch1 = nn.Conv2d(in_channels=6, out_channels=6, kernel_size=1)\n",
    "        self.enc_params_patch2 = nn.Conv2d(in_channels=6, out_channels=22, kernel_size=3, padding=1)\n",
    "        self.enc_params_patch3 = nn.Conv2d(in_channels=22, out_channels=38, kernel_size=3, padding=1)\n",
    "        self.enc_params_patch4 = nn.Conv2d(in_channels=38, out_channels=70, kernel_size=3, padding=1)\n",
    "\n",
    "        # lit encoder\n",
    "        self.enc_lit1 = nn.Conv2d(in_channels=4, out_channels=4, kernel_size=1)\n",
    "        self.enc_lit2 = nn.Conv2d(in_channels=4, out_channels=8, kernel_size=3, padding=1)\n",
    "\n",
    "        # decoder\n",
    "        self.dec1 = nn.Conv2d(in_channels=78, out_channels=78, kernel_size=1)\n",
    "\n",
    "        self.dec2 = nn.Conv2d(in_channels=78, out_channels=86, kernel_size=3, padding=1)\n",
    "        self.dec3 = nn.Conv2d(in_channels=86, out_channels=102, kernel_size=3, padding=1)\n",
    "        self.dec4 = nn.Conv2d(in_channels=102, out_channels=118, kernel_size=3, padding=1)\n",
    "        self.dec5 = nn.Conv2d(in_channels=118, out_channels=126, kernel_size=3, padding=1)\n",
    "\n",
    "        self.dec6 = nn.ConvTranspose2d(in_channels=126, out_channels=126, kernel_size=2, stride=2)\n",
    "\n",
    "        self.dec7 = nn.Conv2d(in_channels=126, out_channels=150, kernel_size=3, padding=1)\n",
    "        self.dec8 = nn.Conv2d(in_channels=150, out_channels=166, kernel_size=3, padding=1)\n",
    "        self.dec9 = nn.Conv2d(in_channels=166, out_channels=182, kernel_size=3, padding=1)\n",
    "\n",
    "        self.dec10 = nn.Conv2d(in_channels=182, out_channels=3, kernel_size=3, padding=1)\n",
    "\n",
    "    def forward(self, x_unlit, x_dep, x_params, x_patch):\n",
    "        # enc_params\n",
    "        x_params = F.relu(self.enc_params1(x_params))   # (b, 160)\n",
    "        x_params = F.relu(self.enc_params2(x_params))   # (b, 420)\n",
    "        x_params = F.relu(self.enc_params3(x_params))   # (b, 1350)\n",
    "\n",
    "        # enc_patch\n",
    "        x_patch = F.relu(self.enc_patch1(x_patch))  # (b, 25)\n",
    "        x_patch = F.relu(self.enc_patch2(x_patch))  # (b, 60)\n",
    "        x_patch = F.relu(self.enc_patch3(x_patch))  # (b, 90)\n",
    "\n",
    "        # Concatenate x_params and x_patch together\n",
    "        x_params_patch = torch.cat((x_params, x_patch), dim=1)  # (b, 1440)\n",
    "        x_params_patch = x_params_patch.reshape(-1, 6, 20, 12)      # (b, 8, 15, 12)\n",
    "\n",
    "        # enc_params_patch\n",
    "        x_params_patch = F.relu(self.enc_params_patch1(x_params_patch)) # (b, 6, 15, 12)\n",
    "        x_params_patch = F.relu(self.enc_params_patch2(x_params_patch)) # (b, 22, 15, 12)\n",
    "        x_params_patch = F.relu(self.enc_params_patch3(x_params_patch)) # (b, 38, 15, 12)\n",
    "        x_params_patch = F.relu(self.enc_params_patch4(x_params_patch)) # (b, 70, 15, 12)\n",
    "\n",
    "        # Concatenate x_unlit and x_dep to form x_lit\n",
    "        x_lit = torch.cat((x_unlit, x_dep), 1)  # (b, 4, 30, 24)\n",
    "\n",
    "        # lit encoder\n",
    "        x_lit = F.relu(self.enc_lit1(x_lit))                    # (b, 4, 30, 24)\n",
    "        x_lit = F.relu(self.enc_lit2(x_lit))                    # (b, 8, 30, 24)\n",
    "        x_lit = F.max_pool2d(x_lit, kernel_size=2, stride=2)    # (b, 8, 15, 12)\n",
    "\n",
    "        # Concatenate x_lit and x_params_patch\n",
    "        x_lit = torch.cat((x_lit, x_params_patch), 1)  # (b, 78, 15, 12)\n",
    "\n",
    "        # decoder\n",
    "        x_lit = F.relu(self.dec1(x_lit))        # (b, 78, 15, 12)\n",
    "        x_lit = F.relu(self.dec2(x_lit))        # (b, 86, 15, 12)\n",
    "        x_lit = F.relu(self.dec3(x_lit))        # (b, 102, 15, 12)\n",
    "        x_lit = F.relu(self.dec4(x_lit))        # (b, 118, 15, 12)\n",
    "        x_lit = F.relu(self.dec5(x_lit))        # (b, 126, 15, 12)\n",
    "\n",
    "        x_lit = F.relu(self.dec6(x_lit))        # (b, 126, 30, 24)\n",
    "\n",
    "        x_lit = F.relu(self.dec7(x_lit))        # (b, 150, 30, 24)\n",
    "        x_lit = F.relu(self.dec8(x_lit))        # (b, 166, 30, 24)\n",
    "        x_lit = F.relu(self.dec9(x_lit))        # (b, 182, 30, 24)\n",
    "\n",
    "        x_lit = torch.sigmoid(self.dec10(x_lit)) # (b, 3, 30, 24)\n",
    "\n",
    "        return x_lit\n",
    "\n",
    "\n",
    "net = Autoencoder()"
   ],
   "metadata": {
    "collapsed": false,
    "pycharm": {
     "name": "#%%\n"
    }
   }
  },
  {
   "cell_type": "code",
   "execution_count": 9,
   "outputs": [],
   "source": [
    "criterion = nn.MSELoss()\n",
    "optimizer = optim.RMSprop(net.parameters(), lr=LEARNING_RATE)"
   ],
   "metadata": {
    "collapsed": false,
    "pycharm": {
     "name": "#%%\n"
    }
   }
  },
  {
   "cell_type": "code",
   "execution_count": 10,
   "outputs": [],
   "source": [
    "def train(net, trainloader, validloader, NUM_EPOCHS):\n",
    "    train_loss = []\n",
    "    valid_loss = []\n",
    "\n",
    "    device = get_device()\n",
    "    for epoch in range(NUM_EPOCHS):\n",
    "        start_time = time.perf_counter()\n",
    "        running_loss = 0.0\n",
    "\n",
    "        for phase in [\"train\", \"val\"]:\n",
    "\n",
    "            training = phase == \"train\"\n",
    "\n",
    "            net.train(training)\n",
    "            if training:\n",
    "                loader = trainloader\n",
    "            else:\n",
    "                loader = validloader\n",
    "\n",
    "            for data in loader:\n",
    "                x, x_dep, x_params, x_patch, y = data\n",
    "\n",
    "                x = x.to(device, dtype=torch.float)\n",
    "                x_dep = x_dep.to(device, dtype=torch.float)\n",
    "                x_params = x_params.to(device, dtype=torch.float)\n",
    "                x_patch = x_patch.to(device, dtype=torch.float)\n",
    "\n",
    "                y = y.to(device, dtype=torch.float)\n",
    "\n",
    "                for sample in range(x.shape[0]):\n",
    "                    optimizer.zero_grad()\n",
    "                    outputs = net(x[sample], x_dep[sample], x_params[sample], x_patch[sample])\n",
    "                    loss = criterion(outputs, y[sample])\n",
    "\n",
    "                    if training:\n",
    "                        loss.backward()\n",
    "                        optimizer.step()\n",
    "\n",
    "                    running_loss += loss.item()\n",
    "\n",
    "            loss = running_loss / len(loader)\n",
    "\n",
    "            if training:\n",
    "                train_loss.append(loss)\n",
    "            else:\n",
    "                valid_loss.append(loss)\n",
    "\n",
    "            print(\"Epoch {} of {}, {} loss: {:.6f}, Time: {:.4f}\".format(\n",
    "                epoch+1, NUM_EPOCHS, phase, loss, time.perf_counter()-start_time\n",
    "            ))\n",
    "\n",
    "        print()\n",
    "\n",
    "    return train_loss, valid_loss"
   ],
   "metadata": {
    "collapsed": false,
    "pycharm": {
     "name": "#%%\n"
    }
   }
  },
  {
   "cell_type": "code",
   "execution_count": 10,
   "outputs": [],
   "source": [],
   "metadata": {
    "collapsed": false,
    "pycharm": {
     "name": "#%%\n"
    }
   }
  },
  {
   "cell_type": "code",
   "execution_count": 11,
   "outputs": [
    {
     "name": "stdout",
     "output_type": "stream",
     "text": [
      "cuda\n"
     ]
    },
    {
     "data": {
      "text/plain": "DataParallel(\n  (module): Autoencoder(\n    (enc_params1): Linear(in_features=3, out_features=160, bias=True)\n    (enc_params2): Linear(in_features=160, out_features=420, bias=True)\n    (enc_params3): Linear(in_features=420, out_features=1350, bias=True)\n    (enc_patch1): Linear(in_features=1, out_features=25, bias=True)\n    (enc_patch2): Linear(in_features=25, out_features=60, bias=True)\n    (enc_patch3): Linear(in_features=60, out_features=90, bias=True)\n    (enc_params_patch1): Conv2d(6, 6, kernel_size=(1, 1), stride=(1, 1))\n    (enc_params_patch2): Conv2d(6, 22, kernel_size=(3, 3), stride=(1, 1), padding=(1, 1))\n    (enc_params_patch3): Conv2d(22, 38, kernel_size=(3, 3), stride=(1, 1), padding=(1, 1))\n    (enc_params_patch4): Conv2d(38, 70, kernel_size=(3, 3), stride=(1, 1), padding=(1, 1))\n    (enc_lit1): Conv2d(4, 4, kernel_size=(1, 1), stride=(1, 1))\n    (enc_lit2): Conv2d(4, 8, kernel_size=(3, 3), stride=(1, 1), padding=(1, 1))\n    (dec1): Conv2d(78, 78, kernel_size=(1, 1), stride=(1, 1))\n    (dec2): Conv2d(78, 86, kernel_size=(3, 3), stride=(1, 1), padding=(1, 1))\n    (dec3): Conv2d(86, 102, kernel_size=(3, 3), stride=(1, 1), padding=(1, 1))\n    (dec4): Conv2d(102, 118, kernel_size=(3, 3), stride=(1, 1), padding=(1, 1))\n    (dec5): Conv2d(118, 126, kernel_size=(3, 3), stride=(1, 1), padding=(1, 1))\n    (dec6): ConvTranspose2d(126, 126, kernel_size=(2, 2), stride=(2, 2))\n    (dec7): Conv2d(126, 150, kernel_size=(3, 3), stride=(1, 1), padding=(1, 1))\n    (dec8): Conv2d(150, 166, kernel_size=(3, 3), stride=(1, 1), padding=(1, 1))\n    (dec9): Conv2d(166, 182, kernel_size=(3, 3), stride=(1, 1), padding=(1, 1))\n    (dec10): Conv2d(182, 3, kernel_size=(3, 3), stride=(1, 1), padding=(1, 1))\n  )\n)"
     },
     "execution_count": 11,
     "metadata": {},
     "output_type": "execute_result"
    }
   ],
   "source": [
    "device = get_device()\n",
    "print(device)\n",
    "\n",
    "net = nn.DataParallel(net)\n",
    "net.to(device)"
   ],
   "metadata": {
    "collapsed": false,
    "pycharm": {
     "name": "#%%\n"
    }
   }
  },
  {
   "cell_type": "code",
   "execution_count": 12,
   "outputs": [
    {
     "name": "stdout",
     "output_type": "stream",
     "text": [
      "Epoch 1 of 5, train loss: 0.194148, Time: 2.4726\n",
      "Epoch 1 of 5, val loss: 0.883588, Time: 2.6570\n",
      "\n",
      "Epoch 2 of 5, train loss: 0.131036, Time: 1.2366\n",
      "Epoch 2 of 5, val loss: 0.619791, Time: 1.4140\n",
      "\n",
      "Epoch 3 of 5, train loss: 0.081911, Time: 1.2290\n",
      "Epoch 3 of 5, val loss: 0.421500, Time: 1.3984\n",
      "\n",
      "Epoch 4 of 5, train loss: 0.083621, Time: 1.2412\n",
      "Epoch 4 of 5, val loss: 0.429595, Time: 1.4123\n",
      "\n",
      "Epoch 5 of 5, train loss: 0.081610, Time: 1.1861\n",
      "Epoch 5 of 5, val loss: 0.420153, Time: 1.3568\n",
      "\n"
     ]
    }
   ],
   "source": [
    "make_dir()\n",
    "\n",
    "train_loss, valid_loss = train(net, train_loader, valid_loader, NUM_EPOCHS)"
   ],
   "metadata": {
    "collapsed": false,
    "pycharm": {
     "name": "#%%\n"
    }
   }
  },
  {
   "cell_type": "code",
   "execution_count": 13,
   "outputs": [
    {
     "data": {
      "text/plain": "<Figure size 432x288 with 1 Axes>",
      "image/png": "[encoded data removed]"
     },
     "metadata": {
      "needs_background": "light"
     },
     "output_type": "display_data"
    }
   ],
   "source": [
    "plt.figure()\n",
    "plt.plot(train_loss)\n",
    "plt.plot(valid_loss)\n",
    "plt.title(\"Loss\")\n",
    "plt.xlabel(\"Epochs\")\n",
    "plt.ylabel(\"Loss\")\n",
    "plt.savefig(\"./\" + OUTPUT_IMAGE_DIR + \"/deep_ae_loss.png\")"
   ],
   "metadata": {
    "collapsed": false,
    "pycharm": {
     "name": "#%%\n"
    }
   }
  },
  {
   "cell_type": "code",
   "execution_count": 14,
   "outputs": [],
   "source": [
    "# Input to the model\n",
    "x = torch.randn(1, 3, PATCH_SIZE[1], PATCH_SIZE[0])\n",
    "x_dep = torch.randn(1, 1, PATCH_SIZE[1], PATCH_SIZE[0])\n",
    "x_params = torch.randn(1, 3)\n",
    "x_patch = torch.randn(1, 1)\n",
    "\n",
    "# Move the model from GPU to CPU before exporting\n",
    "net.cpu()\n",
    "\n",
    "# Export the model\n",
    "torch.onnx.export(net.module,                           # model being run\n",
    "                  (x, x_dep, x_params, x_patch),        # model input (or a tuple for multiple inputs)\n",
    "                  \"./data/Data/model.onnx\",             # where to save the model (can be a file or file-like object)\n",
    "                  export_params=True,                   # store the trained parameter weights inside the model file\n",
    "                  opset_version=9,                      # the ONNX version to export the model to\n",
    "                  do_constant_folding=True,             # whether to execute constant folding for optimization\n",
    "                  input_names = ['x_unlit',\n",
    "                                 'x_dep',\n",
    "                                 'x_params',\n",
    "                                 'x_patch'],            # the model's input names\n",
    "                  output_names = ['y']                  # the model's output name\n",
    "                  )\n"
   ],
   "metadata": {
    "collapsed": false,
    "pycharm": {
     "name": "#%%\n"
    }
   }
  }
 ],
 "metadata": {
  "kernelspec": {
   "display_name": "Python 3",
   "language": "python",
   "name": "python3"
  },
  "language_info": {
   "codemirror_mode": {
    "name": "ipython",
    "version": 2
   },
   "file_extension": ".py",
   "mimetype": "text/x-python",
   "name": "python",
   "nbconvert_exporter": "python",
   "pygments_lexer": "ipython2",
   "version": "2.7.6"
  }
 },
 "nbformat": 4,
 "nbformat_minor": 0
}